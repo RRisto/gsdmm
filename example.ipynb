{
 "cells": [
  {
   "cell_type": "code",
   "execution_count": 15,
   "id": "0086b178",
   "metadata": {},
   "outputs": [],
   "source": [
    "import re\n",
    "import string\n",
    "import spacy\n",
    "import numpy as np\n",
    "import pandas as pd\n",
    "from pprint import pprint\n",
    "from sklearn.base import TransformerMixin\n",
    "from sklearn.datasets import fetch_20newsgroups\n",
    "from gsdmm import MovieGroupProcessArray, MovieGroupProcess"
   ]
  },
  {
   "cell_type": "markdown",
   "id": "b7acd5fc",
   "metadata": {},
   "source": [
    "## Dummy data"
   ]
  },
  {
   "cell_type": "code",
   "execution_count": 16,
   "id": "635840ad",
   "metadata": {},
   "outputs": [],
   "source": [
    "np.random.seed(1)\n",
    "\n",
    "docs = [\n",
    "    'A p-value is a measure of the probability that an observed difference could have occurred just by random chance',\n",
    "    'A p-value is a measure of the probability that an observed difference could have occurred just by random chance',\n",
    "    'In null hypothesis significance testing, the p-value is the probability of obtaining test results at least as extreme as the results actually observed',\n",
    "    'A p-value, or probability value, is a number describing how likely it is that your data would have occurred by random chance',\n",
    "    'A p-value is used in hypothesis testing to help you support or reject the null hypothesis',\n",
    "    'The P-value, or calculated probability, is the probability of finding the observed, or more extreme, results when the null hypothesis',\n",
    "    'A neural network is a network or circuit of neurons, or in a modern sense, an artificial neural network, composed of artificial neurons or nodes',\n",
    "    'An artificial neural network is an interconnected group of nodes, inspired by a simplification of neurons in a brain',\n",
    "    'Neural networks, also known as artificial neural networks (ANNs) or simulated neural networks (SNNs), are a subset of machine learning ',\n",
    "    'Modeled loosely on the human brain, a neural net consists of thousands or even millions of simple processing nodes that are densely',\n",
    "    'Neural networks are a set of algorithms, modeled loosely after the human brain, that are designed to recognize patterns']"
   ]
  },
  {
   "cell_type": "code",
   "execution_count": 17,
   "id": "e7afd505",
   "metadata": {},
   "outputs": [],
   "source": [
    "stopwords = ['this', 'is', 'a', 'the', 'of', 'an', 'that', 'or']\n",
    "docs_toks = [doc.lower().replace(',', '').replace('.', '').split() for doc in docs]\n",
    "docs_toks = [[w for w in doc if w not in stopwords] for doc in docs_toks]"
   ]
  },
  {
   "cell_type": "markdown",
   "id": "a11bf18b",
   "metadata": {},
   "source": [
    "Document should be a list of documents, where ieach document itself is a list of tokens. Model itself doesn't do ay preporcessing only indexing of tokens."
   ]
  },
  {
   "cell_type": "markdown",
   "id": "1e1567ee",
   "metadata": {},
   "source": [
    "## Init model and train"
   ]
  },
  {
   "cell_type": "code",
   "execution_count": 18,
   "id": "c7387dee",
   "metadata": {},
   "outputs": [
    {
     "name": "stdout",
     "output_type": "stream",
     "text": [
      "In stage 0: transferred 7 clusters with 5 clusters populated\n",
      "In stage 1: transferred 3 clusters with 5 clusters populated\n",
      "In stage 2: transferred 3 clusters with 5 clusters populated\n",
      "In stage 3: transferred 1 clusters with 5 clusters populated\n",
      "In stage 4: transferred 1 clusters with 5 clusters populated\n",
      "In stage 5: transferred 0 clusters with 5 clusters populated\n",
      "In stage 6: transferred 1 clusters with 5 clusters populated\n",
      "In stage 7: transferred 1 clusters with 5 clusters populated\n",
      "In stage 8: transferred 0 clusters with 5 clusters populated\n",
      "In stage 9: transferred 0 clusters with 5 clusters populated\n",
      "In stage 10: transferred 1 clusters with 5 clusters populated\n",
      "In stage 11: transferred 1 clusters with 5 clusters populated\n",
      "In stage 12: transferred 1 clusters with 5 clusters populated\n",
      "In stage 13: transferred 1 clusters with 5 clusters populated\n",
      "In stage 14: transferred 0 clusters with 5 clusters populated\n",
      "In stage 15: transferred 1 clusters with 5 clusters populated\n",
      "In stage 16: transferred 0 clusters with 5 clusters populated\n",
      "In stage 17: transferred 0 clusters with 5 clusters populated\n",
      "In stage 18: transferred 2 clusters with 5 clusters populated\n",
      "In stage 19: transferred 1 clusters with 4 clusters populated\n",
      "In stage 20: transferred 1 clusters with 5 clusters populated\n",
      "In stage 21: transferred 1 clusters with 5 clusters populated\n"
     ]
    }
   ],
   "source": [
    "mgp_ar = MovieGroupProcessArray(K=10, alpha=0.1, beta=0.1, n_iters=22)\n",
    "mgp = MovieGroupProcess(K=10, alpha=0.1, beta=0.1, n_iters=22)\n",
    "\n",
    "y = mgp_ar.fit(docs_toks)"
   ]
  },
  {
   "cell_type": "code",
   "execution_count": 19,
   "id": "d341c0b0",
   "metadata": {},
   "outputs": [
    {
     "name": "stdout",
     "output_type": "stream",
     "text": [
      "In stage 0: transferred 6 clusters with 4 clusters populated\n",
      "In stage 1: transferred 0 clusters with 4 clusters populated\n",
      "In stage 2: transferred 2 clusters with 5 clusters populated\n",
      "In stage 3: transferred 3 clusters with 5 clusters populated\n",
      "In stage 4: transferred 3 clusters with 5 clusters populated\n",
      "In stage 5: transferred 1 clusters with 4 clusters populated\n",
      "In stage 6: transferred 1 clusters with 5 clusters populated\n",
      "In stage 7: transferred 3 clusters with 5 clusters populated\n",
      "In stage 8: transferred 3 clusters with 5 clusters populated\n",
      "In stage 9: transferred 3 clusters with 5 clusters populated\n",
      "In stage 10: transferred 3 clusters with 5 clusters populated\n",
      "In stage 11: transferred 3 clusters with 5 clusters populated\n",
      "In stage 12: transferred 1 clusters with 4 clusters populated\n",
      "In stage 13: transferred 0 clusters with 4 clusters populated\n",
      "In stage 14: transferred 0 clusters with 4 clusters populated\n",
      "In stage 15: transferred 2 clusters with 5 clusters populated\n",
      "In stage 16: transferred 3 clusters with 5 clusters populated\n",
      "In stage 17: transferred 1 clusters with 4 clusters populated\n",
      "In stage 18: transferred 0 clusters with 4 clusters populated\n",
      "In stage 19: transferred 0 clusters with 4 clusters populated\n",
      "In stage 20: transferred 1 clusters with 5 clusters populated\n",
      "In stage 21: transferred 1 clusters with 4 clusters populated\n"
     ]
    }
   ],
   "source": [
    "y_old = mgp.fit(docs_toks, len(set([item for sublist in docs_toks for item in sublist])))"
   ]
  },
  {
   "cell_type": "markdown",
   "id": "f9b78d42",
   "metadata": {},
   "source": [
    "## See topics"
   ]
  },
  {
   "cell_type": "code",
   "execution_count": 20,
   "id": "2a49e345",
   "metadata": {},
   "outputs": [
    {
     "name": "stdout",
     "output_type": "stream",
     "text": [
      "{0: ' are neural brain modeled human',\n",
      " 1: ' hypothesis p-value results probability null',\n",
      " 4: ' by random probability occurred p-value',\n",
      " 7: ' network artificial neural neurons in',\n",
      " 9: ' networks neural machine learning artificial'}\n"
     ]
    }
   ],
   "source": [
    "#array version skips topics where 0 docs clustered\n",
    "pprint(mgp_ar.top_words())"
   ]
  },
  {
   "cell_type": "code",
   "execution_count": 21,
   "id": "e440c4d2",
   "metadata": {},
   "outputs": [
    {
     "name": "stdout",
     "output_type": "stream",
     "text": [
      "{0: 'network neural neurons artificial in',\n",
      " 1: 'p-value probability have occurred by',\n",
      " 2: '',\n",
      " 3: 'hypothesis p-value probability results null',\n",
      " 4: '',\n",
      " 5: '',\n",
      " 6: '',\n",
      " 7: '',\n",
      " 8: 'neural are networks modeled loosely',\n",
      " 9: ''}\n"
     ]
    }
   ],
   "source": [
    "pprint(mgp.top_words())"
   ]
  },
  {
   "cell_type": "code",
   "execution_count": 22,
   "id": "2f7ec365",
   "metadata": {},
   "outputs": [
    {
     "data": {
      "text/plain": [
       "(4, 0.9475304886127487)"
      ]
     },
     "execution_count": 22,
     "metadata": {},
     "output_type": "execute_result"
    }
   ],
   "source": [
    "mgp_ar.choose_best_label('p-value is a measure of the probability'.split())"
   ]
  },
  {
   "cell_type": "code",
   "execution_count": 23,
   "id": "64139a4e",
   "metadata": {},
   "outputs": [
    {
     "data": {
      "text/plain": [
       "(1, 0.7129570506322299)"
      ]
     },
     "execution_count": 23,
     "metadata": {},
     "output_type": "execute_result"
    }
   ],
   "source": [
    "mgp.choose_best_label('p-value is a measure of the probability'.split())"
   ]
  },
  {
   "cell_type": "markdown",
   "id": "515bee78",
   "metadata": {},
   "source": [
    "## Speed comparison - 20NewsGroups "
   ]
  },
  {
   "cell_type": "markdown",
   "id": "873fe59f",
   "metadata": {},
   "source": [
    "Topics are here not really an interest, would probalby need more cleaning"
   ]
  },
  {
   "cell_type": "code",
   "execution_count": 24,
   "id": "2a37d114",
   "metadata": {},
   "outputs": [],
   "source": [
    "categories = ['alt.atheism', 'comp.graphics',\n",
    "              'rec.sport.hockey', 'sci.crypt', 'talk.religion.misc']\n",
    "newsgroups = fetch_20newsgroups(categories=categories)\n",
    "y_true = newsgroups.target"
   ]
  },
  {
   "cell_type": "markdown",
   "id": "1501f0a4",
   "metadata": {},
   "source": [
    "#### preprocess data - this takes some time"
   ]
  },
  {
   "cell_type": "code",
   "execution_count": 25,
   "id": "f67f96e4",
   "metadata": {},
   "outputs": [],
   "source": [
    "class TextPreprocessor(TransformerMixin):\n",
    "    def __init__(self, text_attribute):\n",
    "        self.text_attribute = text_attribute\n",
    "\n",
    "    def transform(self, X, *_):\n",
    "        X_copy = X.copy()\n",
    "        X_copy[self.text_attribute] = X_copy[self.text_attribute].apply(self._preprocess_text)\n",
    "        return X_copy\n",
    "\n",
    "    def _preprocess_text(self, text):\n",
    "        return self._lemmatize(self._leave_letters_only(self._clean(text)))\n",
    "\n",
    "    def _clean(self, text):\n",
    "        bad_symbols = '!\"#%&\\'*+,-<=>?[\\\\]^_`{|}~'\n",
    "        text_without_symbols = text.translate(str.maketrans('', '', bad_symbols))\n",
    "\n",
    "        text_without_bad_words = ''\n",
    "        for line in text_without_symbols.split('\\n'):\n",
    "            if not line.lower().startswith('from:') and not line.lower().endswith('writes:'):\n",
    "                text_without_bad_words += line + '\\n'\n",
    "\n",
    "        clean_text = text_without_bad_words\n",
    "        email_regex = r'([a-zA-Z0-9_.+-]+@[a-zA-Z0-9-]+\\.[a-zA-Z0-9-.]+)'\n",
    "        regexes_to_remove = [email_regex, r'Subject:', r'Re:']\n",
    "        for r in regexes_to_remove:\n",
    "            clean_text = re.sub(r, '', clean_text)\n",
    "\n",
    "        return clean_text\n",
    "\n",
    "    def _leave_letters_only(self, text):\n",
    "        text_without_punctuation = text.translate(str.maketrans('', '', string.punctuation))\n",
    "        return ' '.join(re.findall(\"[a-zA-Z]+\", text_without_punctuation))\n",
    "\n",
    "    def _lemmatize(self, text):\n",
    "        doc = nlp(text)\n",
    "        words = [x.lemma_ for x in [y for y in doc if not y.is_stop and y.pos_ != 'PUNCT'\n",
    "                                    and y.pos_ != 'PART' and y.pos_ != 'X']]\n",
    "        return words\n",
    "\n",
    "    def fit(self, *_):\n",
    "        return self\n",
    "\n",
    "nlp = spacy.load(\"en_core_web_sm\")\n",
    "df=pd.DataFrame({'text':newsgroups['data']})\n",
    "\n",
    "text_preprocessor = TextPreprocessor(text_attribute='text')\n",
    "df_preprocessed = text_preprocessor.transform(df)\n",
    "\n",
    "\n",
    "docs=df_preprocessed.text.tolist()"
   ]
  },
  {
   "cell_type": "code",
   "execution_count": 26,
   "id": "ddb74ab5",
   "metadata": {},
   "outputs": [
    {
     "data": {
      "text/plain": [
       "['facinate',\n",
       " 'fact',\n",
       " 'bit',\n",
       " 'serial',\n",
       " 'number',\n",
       " 'possibly',\n",
       " 'fix',\n",
       " 'S',\n",
       " 'S',\n",
       " 'Organization']"
      ]
     },
     "execution_count": 26,
     "metadata": {},
     "output_type": "execute_result"
    }
   ],
   "source": [
    "docs[0][:10]"
   ]
  },
  {
   "cell_type": "markdown",
   "id": "53fb16ac",
   "metadata": {},
   "source": [
    "#### train models"
   ]
  },
  {
   "cell_type": "code",
   "execution_count": 27,
   "id": "8d881d55",
   "metadata": {},
   "outputs": [],
   "source": [
    "mgp_20news = MovieGroupProcess(K=5, alpha=0.1, beta=0.1, n_iters=22)\n",
    "mgp_20news_ar = MovieGroupProcessArray(K=5, alpha=0.1, beta=0.1, n_iters=22)"
   ]
  },
  {
   "cell_type": "code",
   "execution_count": 28,
   "id": "81f3ae05",
   "metadata": {},
   "outputs": [
    {
     "name": "stdout",
     "output_type": "stream",
     "text": [
      "In stage 0: transferred 1981 clusters with 5 clusters populated\n",
      "In stage 1: transferred 545 clusters with 5 clusters populated\n",
      "In stage 2: transferred 239 clusters with 5 clusters populated\n",
      "In stage 3: transferred 93 clusters with 5 clusters populated\n",
      "In stage 4: transferred 87 clusters with 5 clusters populated\n",
      "In stage 5: transferred 89 clusters with 5 clusters populated\n",
      "In stage 6: transferred 84 clusters with 5 clusters populated\n",
      "In stage 7: transferred 75 clusters with 5 clusters populated\n",
      "In stage 8: transferred 54 clusters with 5 clusters populated\n",
      "In stage 9: transferred 33 clusters with 5 clusters populated\n",
      "In stage 10: transferred 36 clusters with 5 clusters populated\n",
      "In stage 11: transferred 26 clusters with 5 clusters populated\n",
      "In stage 12: transferred 30 clusters with 5 clusters populated\n",
      "In stage 13: transferred 33 clusters with 5 clusters populated\n",
      "In stage 14: transferred 26 clusters with 5 clusters populated\n",
      "In stage 15: transferred 28 clusters with 5 clusters populated\n",
      "In stage 16: transferred 26 clusters with 5 clusters populated\n",
      "In stage 17: transferred 30 clusters with 5 clusters populated\n",
      "In stage 18: transferred 27 clusters with 5 clusters populated\n",
      "In stage 19: transferred 28 clusters with 5 clusters populated\n",
      "In stage 20: transferred 33 clusters with 5 clusters populated\n",
      "In stage 21: transferred 29 clusters with 5 clusters populated\n",
      "Wall time: 1min 49s\n"
     ]
    }
   ],
   "source": [
    "%time y = mgp_20news.fit(df_preprocessed.text.tolist(), len(set([item for sublist in docs for item in sublist])))"
   ]
  },
  {
   "cell_type": "code",
   "execution_count": 29,
   "id": "ed311acb",
   "metadata": {},
   "outputs": [
    {
     "name": "stdout",
     "output_type": "stream",
     "text": [
      "In stage 0: transferred 1972 clusters with 5 clusters populated\n",
      "In stage 1: transferred 606 clusters with 5 clusters populated\n",
      "In stage 2: transferred 213 clusters with 5 clusters populated\n",
      "In stage 3: transferred 99 clusters with 5 clusters populated\n",
      "In stage 4: transferred 60 clusters with 5 clusters populated\n",
      "In stage 5: transferred 37 clusters with 5 clusters populated\n",
      "In stage 6: transferred 41 clusters with 5 clusters populated\n",
      "In stage 7: transferred 39 clusters with 5 clusters populated\n",
      "In stage 8: transferred 27 clusters with 5 clusters populated\n",
      "In stage 9: transferred 19 clusters with 5 clusters populated\n",
      "In stage 10: transferred 27 clusters with 5 clusters populated\n",
      "In stage 11: transferred 30 clusters with 5 clusters populated\n",
      "In stage 12: transferred 17 clusters with 5 clusters populated\n",
      "In stage 13: transferred 16 clusters with 5 clusters populated\n",
      "In stage 14: transferred 32 clusters with 5 clusters populated\n",
      "In stage 15: transferred 49 clusters with 5 clusters populated\n",
      "In stage 16: transferred 56 clusters with 5 clusters populated\n",
      "In stage 17: transferred 46 clusters with 5 clusters populated\n",
      "In stage 18: transferred 40 clusters with 5 clusters populated\n",
      "In stage 19: transferred 35 clusters with 5 clusters populated\n",
      "In stage 20: transferred 32 clusters with 5 clusters populated\n",
      "In stage 21: transferred 33 clusters with 5 clusters populated\n",
      "Wall time: 11.8 s\n"
     ]
    }
   ],
   "source": [
    "%time y = mgp_20news_ar.fit(df_preprocessed.text.tolist())"
   ]
  },
  {
   "cell_type": "markdown",
   "id": "ade92527",
   "metadata": {},
   "source": [
    "#### Compare topics"
   ]
  },
  {
   "cell_type": "code",
   "execution_count": 30,
   "id": "8bb917b7",
   "metadata": {},
   "outputs": [
    {
     "name": "stdout",
     "output_type": "stream",
     "text": [
      "{0: 'Organization Lines NNTPPostingHost know say',\n",
      " 1: 'Organization Lines University d need',\n",
      " 2: 'Organization Lines game University team',\n",
      " 3: 'Organization Lines University file know',\n",
      " 4: 'Organization people key think know'}\n"
     ]
    }
   ],
   "source": [
    "pprint(mgp_20news.top_words())"
   ]
  },
  {
   "cell_type": "code",
   "execution_count": 31,
   "id": "f3a18298",
   "metadata": {},
   "outputs": [
    {
     "name": "stdout",
     "output_type": "stream",
     "text": [
      "{0: ' Organization Lines April know University',\n",
      " 1: ' Windows version Organization University Lines',\n",
      " 2: ' Organization game Lines University team',\n",
      " 3: ' Organization Lines University file know',\n",
      " 4: ' Organization people Lines think key'}\n"
     ]
    }
   ],
   "source": [
    "pprint(mgp_20news_ar.top_words())"
   ]
  },
  {
   "cell_type": "markdown",
   "id": "07745ec3",
   "metadata": {},
   "source": [
    "## Save and load saved model"
   ]
  },
  {
   "cell_type": "code",
   "execution_count": 32,
   "id": "438b3a51",
   "metadata": {},
   "outputs": [],
   "source": [
    "#save to a folder which model creates\n",
    "mgp_ar.save('example_model')"
   ]
  },
  {
   "cell_type": "code",
   "execution_count": 33,
   "id": "7018f736",
   "metadata": {},
   "outputs": [],
   "source": [
    "#load model from folder\n",
    "mgp_ar_loaded=MovieGroupProcessArray.load('example_model')"
   ]
  },
  {
   "cell_type": "code",
   "execution_count": 34,
   "id": "afce38ad",
   "metadata": {},
   "outputs": [
    {
     "name": "stdout",
     "output_type": "stream",
     "text": [
      "{0: ' are neural brain modeled human',\n",
      " 1: ' hypothesis p-value results probability null',\n",
      " 4: ' by random probability occurred p-value',\n",
      " 7: ' network artificial neural neurons in',\n",
      " 9: ' networks neural machine learning artificial'}\n"
     ]
    }
   ],
   "source": [
    "pprint(mgp_ar_loaded.top_words())"
   ]
  },
  {
   "cell_type": "code",
   "execution_count": 36,
   "id": "459a00d8",
   "metadata": {},
   "outputs": [
    {
     "name": "stdout",
     "output_type": "stream",
     "text": [
      "{0: ' are neural brain modeled human',\n",
      " 1: ' hypothesis p-value results probability null',\n",
      " 4: ' by random probability occurred p-value',\n",
      " 7: ' network artificial neural neurons in',\n",
      " 9: ' networks neural machine learning artificial'}\n"
     ]
    }
   ],
   "source": [
    "#original words\n",
    "pprint(mgp_ar.top_words())"
   ]
  },
  {
   "cell_type": "code",
   "execution_count": 35,
   "id": "b5faaaa6",
   "metadata": {},
   "outputs": [
    {
     "data": {
      "text/plain": [
       "(4, 0.9475304886127487)"
      ]
     },
     "execution_count": 35,
     "metadata": {},
     "output_type": "execute_result"
    }
   ],
   "source": [
    "mgp_ar_loaded.choose_best_label('p-value is a measure of the probability'.split())"
   ]
  },
  {
   "cell_type": "code",
   "execution_count": 37,
   "id": "7e569685",
   "metadata": {},
   "outputs": [
    {
     "data": {
      "text/plain": [
       "(4, 0.9475304886127487)"
      ]
     },
     "execution_count": 37,
     "metadata": {},
     "output_type": "execute_result"
    }
   ],
   "source": [
    "#original model topic and probability\n",
    "mgp_ar_loaded.choose_best_label('p-value is a measure of the probability'.split())"
   ]
  },
  {
   "cell_type": "code",
   "execution_count": null,
   "id": "c7d2e07f",
   "metadata": {},
   "outputs": [],
   "source": []
  }
 ],
 "metadata": {
  "kernelspec": {
   "display_name": "Python 3",
   "language": "python",
   "name": "python3"
  },
  "language_info": {
   "codemirror_mode": {
    "name": "ipython",
    "version": 3
   },
   "file_extension": ".py",
   "mimetype": "text/x-python",
   "name": "python",
   "nbconvert_exporter": "python",
   "pygments_lexer": "ipython3",
   "version": "3.7.4"
  }
 },
 "nbformat": 4,
 "nbformat_minor": 5
}
