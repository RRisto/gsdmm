{
 "cells": [
  {
   "cell_type": "code",
   "execution_count": 1,
   "id": "0086b178",
   "metadata": {},
   "outputs": [],
   "source": [
    "from gsdmm import MovieGroupProcessArray, MovieGroupProcess\n",
    "import numpy as np\n",
    "from pprint import pprint"
   ]
  },
  {
   "cell_type": "markdown",
   "id": "b7acd5fc",
   "metadata": {},
   "source": [
    "## Dummy data"
   ]
  },
  {
   "cell_type": "code",
   "execution_count": 2,
   "id": "635840ad",
   "metadata": {},
   "outputs": [],
   "source": [
    "np.random.seed(1)\n",
    "\n",
    "docs = [\n",
    "    'A p-value is a measure of the probability that an observed difference could have occurred just by random chance',\n",
    "    'In null hypothesis significance testing, the p-value is the probability of obtaining test results at least as extreme as the results actually observed',\n",
    "    'A p-value, or probability value, is a number describing how likely it is that your data would have occurred by random chance',\n",
    "    'A p-value is used in hypothesis testing to help you support or reject the null hypothesis',\n",
    "    'The P-value, or calculated probability, is the probability of finding the observed, or more extreme, results when the null hypothesis',\n",
    "    'A neural network is a network or circuit of neurons, or in a modern sense, an artificial neural network, composed of artificial neurons or nodes',\n",
    "    'An artificial neural network is an interconnected group of nodes, inspired by a simplification of neurons in a brain',\n",
    "    'Neural networks, also known as artificial neural networks (ANNs) or simulated neural networks (SNNs), are a subset of machine learning ',\n",
    "    'Modeled loosely on the human brain, a neural net consists of thousands or even millions of simple processing nodes that are densely',\n",
    "    'Neural networks are a set of algorithms, modeled loosely after the human brain, that are designed to recognize patterns']"
   ]
  },
  {
   "cell_type": "code",
   "execution_count": 3,
   "id": "e7afd505",
   "metadata": {},
   "outputs": [],
   "source": [
    "stopwords = ['this', 'is', 'a', 'the', 'of', 'an', 'that', 'or']\n",
    "docs_toks = [doc.lower().replace(',', '').replace('.', '').split() for doc in docs]\n",
    "docs_toks = [[w for w in doc if w not in stopwords] for doc in docs_toks]"
   ]
  },
  {
   "cell_type": "markdown",
   "id": "1e1567ee",
   "metadata": {},
   "source": [
    "## Init model and train"
   ]
  },
  {
   "cell_type": "code",
   "execution_count": 4,
   "id": "c7387dee",
   "metadata": {},
   "outputs": [
    {
     "name": "stdout",
     "output_type": "stream",
     "text": [
      "In stage 0: transferred 6 clusters with 4 clusters populated\n",
      "In stage 1: transferred 1 clusters with 5 clusters populated\n",
      "In stage 2: transferred 1 clusters with 5 clusters populated\n",
      "In stage 3: transferred 1 clusters with 5 clusters populated\n",
      "In stage 4: transferred 1 clusters with 5 clusters populated\n",
      "In stage 5: transferred 1 clusters with 5 clusters populated\n",
      "In stage 6: transferred 1 clusters with 5 clusters populated\n",
      "In stage 7: transferred 1 clusters with 5 clusters populated\n",
      "In stage 8: transferred 1 clusters with 5 clusters populated\n",
      "In stage 9: transferred 1 clusters with 5 clusters populated\n",
      "In stage 10: transferred 1 clusters with 5 clusters populated\n",
      "In stage 11: transferred 1 clusters with 4 clusters populated\n",
      "In stage 12: transferred 1 clusters with 5 clusters populated\n",
      "In stage 13: transferred 0 clusters with 5 clusters populated\n",
      "In stage 14: transferred 1 clusters with 5 clusters populated\n",
      "In stage 15: transferred 1 clusters with 5 clusters populated\n",
      "In stage 16: transferred 1 clusters with 5 clusters populated\n",
      "In stage 17: transferred 1 clusters with 5 clusters populated\n",
      "In stage 18: transferred 1 clusters with 5 clusters populated\n",
      "In stage 19: transferred 1 clusters with 5 clusters populated\n",
      "In stage 20: transferred 2 clusters with 6 clusters populated\n",
      "In stage 21: transferred 2 clusters with 4 clusters populated\n"
     ]
    }
   ],
   "source": [
    "mgp_ar = MovieGroupProcessArray(K=10, alpha=0.1, beta=0.1, n_iters=22)\n",
    "mgp = MovieGroupProcess(K=10, alpha=0.1, beta=0.1, n_iters=22)\n",
    "\n",
    "y = mgp_ar.fit(docs_toks)"
   ]
  },
  {
   "cell_type": "code",
   "execution_count": 5,
   "id": "d341c0b0",
   "metadata": {},
   "outputs": [
    {
     "name": "stdout",
     "output_type": "stream",
     "text": [
      "In stage 0: transferred 7 clusters with 4 clusters populated\n",
      "In stage 1: transferred 1 clusters with 4 clusters populated\n",
      "In stage 2: transferred 2 clusters with 5 clusters populated\n",
      "In stage 3: transferred 3 clusters with 5 clusters populated\n",
      "In stage 4: transferred 1 clusters with 4 clusters populated\n",
      "In stage 5: transferred 0 clusters with 4 clusters populated\n",
      "In stage 6: transferred 2 clusters with 5 clusters populated\n",
      "In stage 7: transferred 1 clusters with 5 clusters populated\n",
      "In stage 8: transferred 3 clusters with 5 clusters populated\n",
      "In stage 9: transferred 1 clusters with 4 clusters populated\n",
      "In stage 10: transferred 1 clusters with 5 clusters populated\n",
      "In stage 11: transferred 1 clusters with 5 clusters populated\n",
      "In stage 12: transferred 3 clusters with 5 clusters populated\n",
      "In stage 13: transferred 3 clusters with 5 clusters populated\n",
      "In stage 14: transferred 3 clusters with 5 clusters populated\n",
      "In stage 15: transferred 3 clusters with 5 clusters populated\n",
      "In stage 16: transferred 1 clusters with 4 clusters populated\n",
      "In stage 17: transferred 2 clusters with 5 clusters populated\n",
      "In stage 18: transferred 1 clusters with 5 clusters populated\n",
      "In stage 19: transferred 3 clusters with 5 clusters populated\n",
      "In stage 20: transferred 3 clusters with 5 clusters populated\n",
      "In stage 21: transferred 1 clusters with 4 clusters populated\n"
     ]
    }
   ],
   "source": [
    "y_old = mgp.fit(docs_toks, len(set([item for sublist in docs_toks for item in sublist])))"
   ]
  },
  {
   "cell_type": "markdown",
   "id": "f9b78d42",
   "metadata": {},
   "source": [
    "## See topics"
   ]
  },
  {
   "cell_type": "code",
   "execution_count": 6,
   "id": "2a49e345",
   "metadata": {},
   "outputs": [
    {
     "name": "stdout",
     "output_type": "stream",
     "text": [
      "{0: ' hypothesis p-value results probability null',\n",
      " 2: ' network artificial neural neurons in',\n",
      " 6: ' by chance have occurred p-value',\n",
      " 8: ' neural are networks human brain'}\n"
     ]
    }
   ],
   "source": [
    "#array version skips topics where 0 docs clustered\n",
    "pprint(mgp_ar.top_words())"
   ]
  },
  {
   "cell_type": "code",
   "execution_count": 7,
   "id": "e440c4d2",
   "metadata": {},
   "outputs": [
    {
     "name": "stdout",
     "output_type": "stream",
     "text": [
      "{0: 'network artificial neural neurons nodes',\n",
      " 1: '',\n",
      " 2: '',\n",
      " 3: '',\n",
      " 4: 'p-value probability have occurred by',\n",
      " 5: '',\n",
      " 6: '',\n",
      " 7: 'hypothesis p-value probability results null',\n",
      " 8: '',\n",
      " 9: 'neural are networks modeled loosely'}\n"
     ]
    }
   ],
   "source": [
    "pprint(mgp.top_words())"
   ]
  },
  {
   "cell_type": "code",
   "execution_count": 11,
   "id": "2f7ec365",
   "metadata": {},
   "outputs": [
    {
     "data": {
      "text/plain": [
       "(6, 0.8709794263411225)"
      ]
     },
     "execution_count": 11,
     "metadata": {},
     "output_type": "execute_result"
    }
   ],
   "source": [
    "mgp_ar.choose_best_label('p-value is a measure of the probability'.split())"
   ]
  },
  {
   "cell_type": "code",
   "execution_count": 13,
   "id": "64139a4e",
   "metadata": {},
   "outputs": [
    {
     "data": {
      "text/plain": [
       "(4, 0.7213762163883213)"
      ]
     },
     "execution_count": 13,
     "metadata": {},
     "output_type": "execute_result"
    }
   ],
   "source": [
    "mgp.choose_best_label('p-value is a measure of the probability'.split())"
   ]
  },
  {
   "cell_type": "code",
   "execution_count": null,
   "id": "51f04fb1",
   "metadata": {},
   "outputs": [],
   "source": []
  }
 ],
 "metadata": {
  "kernelspec": {
   "display_name": "Python 3",
   "language": "python",
   "name": "python3"
  },
  "language_info": {
   "codemirror_mode": {
    "name": "ipython",
    "version": 3
   },
   "file_extension": ".py",
   "mimetype": "text/x-python",
   "name": "python",
   "nbconvert_exporter": "python",
   "pygments_lexer": "ipython3",
   "version": "3.7.4"
  }
 },
 "nbformat": 4,
 "nbformat_minor": 5
}
