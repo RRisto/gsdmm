{
 "cells": [
  {
   "cell_type": "code",
   "execution_count": 13,
   "id": "0086b178",
   "metadata": {},
   "outputs": [],
   "source": [
    "import re\n",
    "import string\n",
    "import spacy\n",
    "import numpy as np\n",
    "import pandas as pd\n",
    "from pprint import pprint\n",
    "from sklearn.base import TransformerMixin\n",
    "from sklearn.datasets import fetch_20newsgroups\n",
    "from gsdmm import MovieGroupProcessArray, MovieGroupProcess"
   ]
  },
  {
   "cell_type": "markdown",
   "id": "b7acd5fc",
   "metadata": {},
   "source": [
    "## Dummy data"
   ]
  },
  {
   "cell_type": "code",
   "execution_count": 2,
   "id": "635840ad",
   "metadata": {},
   "outputs": [],
   "source": [
    "np.random.seed(1)\n",
    "\n",
    "docs = [\n",
    "    'A p-value is a measure of the probability that an observed difference could have occurred just by random chance',\n",
    "    'In null hypothesis significance testing, the p-value is the probability of obtaining test results at least as extreme as the results actually observed',\n",
    "    'A p-value, or probability value, is a number describing how likely it is that your data would have occurred by random chance',\n",
    "    'A p-value is used in hypothesis testing to help you support or reject the null hypothesis',\n",
    "    'The P-value, or calculated probability, is the probability of finding the observed, or more extreme, results when the null hypothesis',\n",
    "    'A neural network is a network or circuit of neurons, or in a modern sense, an artificial neural network, composed of artificial neurons or nodes',\n",
    "    'An artificial neural network is an interconnected group of nodes, inspired by a simplification of neurons in a brain',\n",
    "    'Neural networks, also known as artificial neural networks (ANNs) or simulated neural networks (SNNs), are a subset of machine learning ',\n",
    "    'Modeled loosely on the human brain, a neural net consists of thousands or even millions of simple processing nodes that are densely',\n",
    "    'Neural networks are a set of algorithms, modeled loosely after the human brain, that are designed to recognize patterns']"
   ]
  },
  {
   "cell_type": "code",
   "execution_count": 3,
   "id": "e7afd505",
   "metadata": {},
   "outputs": [],
   "source": [
    "stopwords = ['this', 'is', 'a', 'the', 'of', 'an', 'that', 'or']\n",
    "docs_toks = [doc.lower().replace(',', '').replace('.', '').split() for doc in docs]\n",
    "docs_toks = [[w for w in doc if w not in stopwords] for doc in docs_toks]"
   ]
  },
  {
   "cell_type": "markdown",
   "id": "a11bf18b",
   "metadata": {},
   "source": [
    "Document should be a list of documents, where ieach document itself is a list of tokens. Model itself doesn't do ay preporcessing only indexing of tokens."
   ]
  },
  {
   "cell_type": "markdown",
   "id": "1e1567ee",
   "metadata": {},
   "source": [
    "## Init model and train"
   ]
  },
  {
   "cell_type": "code",
   "execution_count": 4,
   "id": "c7387dee",
   "metadata": {},
   "outputs": [
    {
     "name": "stdout",
     "output_type": "stream",
     "text": [
      "In stage 0: transferred 6 clusters with 4 clusters populated\n",
      "In stage 1: transferred 1 clusters with 5 clusters populated\n",
      "In stage 2: transferred 1 clusters with 5 clusters populated\n",
      "In stage 3: transferred 1 clusters with 5 clusters populated\n",
      "In stage 4: transferred 1 clusters with 5 clusters populated\n",
      "In stage 5: transferred 1 clusters with 5 clusters populated\n",
      "In stage 6: transferred 1 clusters with 5 clusters populated\n",
      "In stage 7: transferred 1 clusters with 5 clusters populated\n",
      "In stage 8: transferred 1 clusters with 5 clusters populated\n",
      "In stage 9: transferred 1 clusters with 5 clusters populated\n",
      "In stage 10: transferred 1 clusters with 5 clusters populated\n",
      "In stage 11: transferred 1 clusters with 4 clusters populated\n",
      "In stage 12: transferred 1 clusters with 5 clusters populated\n",
      "In stage 13: transferred 0 clusters with 5 clusters populated\n",
      "In stage 14: transferred 1 clusters with 5 clusters populated\n",
      "In stage 15: transferred 1 clusters with 5 clusters populated\n",
      "In stage 16: transferred 1 clusters with 5 clusters populated\n",
      "In stage 17: transferred 1 clusters with 5 clusters populated\n",
      "In stage 18: transferred 1 clusters with 5 clusters populated\n",
      "In stage 19: transferred 1 clusters with 5 clusters populated\n",
      "In stage 20: transferred 2 clusters with 6 clusters populated\n",
      "In stage 21: transferred 2 clusters with 4 clusters populated\n"
     ]
    }
   ],
   "source": [
    "mgp_ar = MovieGroupProcessArray(K=10, alpha=0.1, beta=0.1, n_iters=22)\n",
    "mgp = MovieGroupProcess(K=10, alpha=0.1, beta=0.1, n_iters=22)\n",
    "\n",
    "y = mgp_ar.fit(docs_toks)"
   ]
  },
  {
   "cell_type": "code",
   "execution_count": 5,
   "id": "d341c0b0",
   "metadata": {},
   "outputs": [
    {
     "name": "stdout",
     "output_type": "stream",
     "text": [
      "In stage 0: transferred 7 clusters with 4 clusters populated\n",
      "In stage 1: transferred 1 clusters with 4 clusters populated\n",
      "In stage 2: transferred 2 clusters with 5 clusters populated\n",
      "In stage 3: transferred 3 clusters with 5 clusters populated\n",
      "In stage 4: transferred 1 clusters with 4 clusters populated\n",
      "In stage 5: transferred 0 clusters with 4 clusters populated\n",
      "In stage 6: transferred 2 clusters with 5 clusters populated\n",
      "In stage 7: transferred 1 clusters with 5 clusters populated\n",
      "In stage 8: transferred 3 clusters with 5 clusters populated\n",
      "In stage 9: transferred 1 clusters with 4 clusters populated\n",
      "In stage 10: transferred 1 clusters with 5 clusters populated\n",
      "In stage 11: transferred 1 clusters with 5 clusters populated\n",
      "In stage 12: transferred 3 clusters with 5 clusters populated\n",
      "In stage 13: transferred 3 clusters with 5 clusters populated\n",
      "In stage 14: transferred 3 clusters with 5 clusters populated\n",
      "In stage 15: transferred 3 clusters with 5 clusters populated\n",
      "In stage 16: transferred 1 clusters with 4 clusters populated\n",
      "In stage 17: transferred 2 clusters with 5 clusters populated\n",
      "In stage 18: transferred 1 clusters with 5 clusters populated\n",
      "In stage 19: transferred 3 clusters with 5 clusters populated\n",
      "In stage 20: transferred 3 clusters with 5 clusters populated\n",
      "In stage 21: transferred 1 clusters with 4 clusters populated\n"
     ]
    }
   ],
   "source": [
    "y_old = mgp.fit(docs_toks, len(set([item for sublist in docs_toks for item in sublist])))"
   ]
  },
  {
   "cell_type": "markdown",
   "id": "f9b78d42",
   "metadata": {},
   "source": [
    "## See topics"
   ]
  },
  {
   "cell_type": "code",
   "execution_count": 6,
   "id": "2a49e345",
   "metadata": {},
   "outputs": [
    {
     "name": "stdout",
     "output_type": "stream",
     "text": [
      "{0: ' hypothesis p-value results probability null',\n",
      " 2: ' network artificial neural neurons in',\n",
      " 6: ' by chance have occurred p-value',\n",
      " 8: ' neural are networks human brain'}\n"
     ]
    }
   ],
   "source": [
    "#array version skips topics where 0 docs clustered\n",
    "pprint(mgp_ar.top_words())"
   ]
  },
  {
   "cell_type": "code",
   "execution_count": 7,
   "id": "e440c4d2",
   "metadata": {},
   "outputs": [
    {
     "name": "stdout",
     "output_type": "stream",
     "text": [
      "{0: 'network artificial neural neurons nodes',\n",
      " 1: '',\n",
      " 2: '',\n",
      " 3: '',\n",
      " 4: 'p-value probability have occurred by',\n",
      " 5: '',\n",
      " 6: '',\n",
      " 7: 'hypothesis p-value probability results null',\n",
      " 8: '',\n",
      " 9: 'neural are networks modeled loosely'}\n"
     ]
    }
   ],
   "source": [
    "pprint(mgp.top_words())"
   ]
  },
  {
   "cell_type": "code",
   "execution_count": 8,
   "id": "2f7ec365",
   "metadata": {},
   "outputs": [
    {
     "data": {
      "text/plain": [
       "(6, 0.8709794263411225)"
      ]
     },
     "execution_count": 8,
     "metadata": {},
     "output_type": "execute_result"
    }
   ],
   "source": [
    "mgp_ar.choose_best_label('p-value is a measure of the probability'.split())"
   ]
  },
  {
   "cell_type": "code",
   "execution_count": 9,
   "id": "64139a4e",
   "metadata": {},
   "outputs": [
    {
     "data": {
      "text/plain": [
       "(4, 0.7213762163883213)"
      ]
     },
     "execution_count": 9,
     "metadata": {},
     "output_type": "execute_result"
    }
   ],
   "source": [
    "mgp.choose_best_label('p-value is a measure of the probability'.split())"
   ]
  },
  {
   "cell_type": "markdown",
   "id": "515bee78",
   "metadata": {},
   "source": [
    "## Speed comparison - 20NewsGroups "
   ]
  },
  {
   "cell_type": "markdown",
   "id": "873fe59f",
   "metadata": {},
   "source": [
    "Topics are here not really an interest, would probalby need more cleaning"
   ]
  },
  {
   "cell_type": "code",
   "execution_count": 11,
   "id": "2a37d114",
   "metadata": {},
   "outputs": [],
   "source": [
    "categories = ['alt.atheism', 'comp.graphics',\n",
    "              'rec.sport.hockey', 'sci.crypt', 'talk.religion.misc']\n",
    "newsgroups = fetch_20newsgroups(categories=categories)\n",
    "y_true = newsgroups.target"
   ]
  },
  {
   "cell_type": "markdown",
   "id": "1501f0a4",
   "metadata": {},
   "source": [
    "#### preprocess data - this takes some time"
   ]
  },
  {
   "cell_type": "code",
   "execution_count": 14,
   "id": "f67f96e4",
   "metadata": {},
   "outputs": [],
   "source": [
    "class TextPreprocessor(TransformerMixin):\n",
    "    def __init__(self, text_attribute):\n",
    "        self.text_attribute = text_attribute\n",
    "\n",
    "    def transform(self, X, *_):\n",
    "        X_copy = X.copy()\n",
    "        X_copy[self.text_attribute] = X_copy[self.text_attribute].apply(self._preprocess_text)\n",
    "        return X_copy\n",
    "\n",
    "    def _preprocess_text(self, text):\n",
    "        return self._lemmatize(self._leave_letters_only(self._clean(text)))\n",
    "\n",
    "    def _clean(self, text):\n",
    "        bad_symbols = '!\"#%&\\'*+,-<=>?[\\\\]^_`{|}~'\n",
    "        text_without_symbols = text.translate(str.maketrans('', '', bad_symbols))\n",
    "\n",
    "        text_without_bad_words = ''\n",
    "        for line in text_without_symbols.split('\\n'):\n",
    "            if not line.lower().startswith('from:') and not line.lower().endswith('writes:'):\n",
    "                text_without_bad_words += line + '\\n'\n",
    "\n",
    "        clean_text = text_without_bad_words\n",
    "        email_regex = r'([a-zA-Z0-9_.+-]+@[a-zA-Z0-9-]+\\.[a-zA-Z0-9-.]+)'\n",
    "        regexes_to_remove = [email_regex, r'Subject:', r'Re:']\n",
    "        for r in regexes_to_remove:\n",
    "            clean_text = re.sub(r, '', clean_text)\n",
    "\n",
    "        return clean_text\n",
    "\n",
    "    def _leave_letters_only(self, text):\n",
    "        text_without_punctuation = text.translate(str.maketrans('', '', string.punctuation))\n",
    "        return ' '.join(re.findall(\"[a-zA-Z]+\", text_without_punctuation))\n",
    "\n",
    "    def _lemmatize(self, text):\n",
    "        doc = nlp(text)\n",
    "        words = [x.lemma_ for x in [y for y in doc if not y.is_stop and y.pos_ != 'PUNCT'\n",
    "                                    and y.pos_ != 'PART' and y.pos_ != 'X']]\n",
    "        return words\n",
    "\n",
    "    def fit(self, *_):\n",
    "        return self\n",
    "\n",
    "nlp = spacy.load(\"en_core_web_sm\")\n",
    "df=pd.DataFrame({'text':newsgroups['data']})\n",
    "\n",
    "text_preprocessor = TextPreprocessor(text_attribute='text')\n",
    "df_preprocessed = text_preprocessor.transform(df)\n",
    "\n",
    "\n",
    "docs=df_preprocessed.text.tolist()"
   ]
  },
  {
   "cell_type": "code",
   "execution_count": 16,
   "id": "ddb74ab5",
   "metadata": {},
   "outputs": [
    {
     "data": {
      "text/plain": [
       "['facinate',\n",
       " 'fact',\n",
       " 'bit',\n",
       " 'serial',\n",
       " 'number',\n",
       " 'possibly',\n",
       " 'fix',\n",
       " 'S',\n",
       " 'S',\n",
       " 'Organization']"
      ]
     },
     "execution_count": 16,
     "metadata": {},
     "output_type": "execute_result"
    }
   ],
   "source": [
    "docs[0][:10]"
   ]
  },
  {
   "cell_type": "markdown",
   "id": "53fb16ac",
   "metadata": {},
   "source": [
    "#### train models"
   ]
  },
  {
   "cell_type": "code",
   "execution_count": 17,
   "id": "8d881d55",
   "metadata": {},
   "outputs": [],
   "source": [
    "mgp_20news = MovieGroupProcess(K=5, alpha=0.1, beta=0.1, n_iters=22)\n",
    "mgp_20news_ar = MovieGroupProcessArray(K=5, alpha=0.1, beta=0.1, n_iters=22)"
   ]
  },
  {
   "cell_type": "code",
   "execution_count": 18,
   "id": "81f3ae05",
   "metadata": {},
   "outputs": [
    {
     "name": "stdout",
     "output_type": "stream",
     "text": [
      "In stage 0: transferred 1992 clusters with 5 clusters populated\n",
      "In stage 1: transferred 476 clusters with 5 clusters populated\n",
      "In stage 2: transferred 145 clusters with 5 clusters populated\n",
      "In stage 3: transferred 84 clusters with 5 clusters populated\n",
      "In stage 4: transferred 85 clusters with 5 clusters populated\n",
      "In stage 5: transferred 72 clusters with 5 clusters populated\n",
      "In stage 6: transferred 80 clusters with 5 clusters populated\n",
      "In stage 7: transferred 52 clusters with 5 clusters populated\n",
      "In stage 8: transferred 36 clusters with 5 clusters populated\n",
      "In stage 9: transferred 29 clusters with 5 clusters populated\n",
      "In stage 10: transferred 20 clusters with 5 clusters populated\n",
      "In stage 11: transferred 29 clusters with 5 clusters populated\n",
      "In stage 12: transferred 26 clusters with 5 clusters populated\n",
      "In stage 13: transferred 16 clusters with 5 clusters populated\n",
      "In stage 14: transferred 14 clusters with 5 clusters populated\n",
      "In stage 15: transferred 24 clusters with 5 clusters populated\n",
      "In stage 16: transferred 27 clusters with 5 clusters populated\n",
      "In stage 17: transferred 16 clusters with 5 clusters populated\n",
      "In stage 18: transferred 20 clusters with 5 clusters populated\n",
      "In stage 19: transferred 13 clusters with 5 clusters populated\n",
      "In stage 20: transferred 16 clusters with 5 clusters populated\n",
      "In stage 21: transferred 17 clusters with 5 clusters populated\n",
      "Wall time: 1min 32s\n"
     ]
    }
   ],
   "source": [
    "%time y = mgp_20news.fit(df_preprocessed.text.tolist(), len(set([item for sublist in docs for item in sublist])))"
   ]
  },
  {
   "cell_type": "code",
   "execution_count": 19,
   "id": "ed311acb",
   "metadata": {},
   "outputs": [
    {
     "name": "stdout",
     "output_type": "stream",
     "text": [
      "In stage 0: transferred 1964 clusters with 5 clusters populated\n",
      "In stage 1: transferred 691 clusters with 5 clusters populated\n",
      "In stage 2: transferred 248 clusters with 5 clusters populated\n",
      "In stage 3: transferred 119 clusters with 5 clusters populated\n",
      "In stage 4: transferred 70 clusters with 5 clusters populated\n",
      "In stage 5: transferred 70 clusters with 5 clusters populated\n",
      "In stage 6: transferred 58 clusters with 5 clusters populated\n",
      "In stage 7: transferred 40 clusters with 5 clusters populated\n",
      "In stage 8: transferred 35 clusters with 5 clusters populated\n",
      "In stage 9: transferred 33 clusters with 5 clusters populated\n",
      "In stage 10: transferred 38 clusters with 5 clusters populated\n",
      "In stage 11: transferred 31 clusters with 5 clusters populated\n",
      "In stage 12: transferred 27 clusters with 5 clusters populated\n",
      "In stage 13: transferred 30 clusters with 5 clusters populated\n",
      "In stage 14: transferred 29 clusters with 5 clusters populated\n",
      "In stage 15: transferred 29 clusters with 5 clusters populated\n",
      "In stage 16: transferred 20 clusters with 5 clusters populated\n",
      "In stage 17: transferred 21 clusters with 5 clusters populated\n",
      "In stage 18: transferred 30 clusters with 5 clusters populated\n",
      "In stage 19: transferred 22 clusters with 5 clusters populated\n",
      "In stage 20: transferred 20 clusters with 5 clusters populated\n",
      "In stage 21: transferred 22 clusters with 5 clusters populated\n",
      "Wall time: 9.34 s\n"
     ]
    }
   ],
   "source": [
    "%time y = mgp_20news_ar.fit(df_preprocessed.text.tolist())"
   ]
  },
  {
   "cell_type": "markdown",
   "id": "ade92527",
   "metadata": {},
   "source": [
    "#### Compare topics"
   ]
  },
  {
   "cell_type": "code",
   "execution_count": 20,
   "id": "8bb917b7",
   "metadata": {},
   "outputs": [
    {
     "name": "stdout",
     "output_type": "stream",
     "text": [
      "{0: 'Organization Lines know say people',\n",
      " 1: 'Organization Lines University file know',\n",
      " 2: 'Organization tempest Lines group good',\n",
      " 3: 'Organization Lines game University team',\n",
      " 4: 'Organization key people think know'}\n"
     ]
    }
   ],
   "source": [
    "pprint(mgp_20news.top_words())"
   ]
  },
  {
   "cell_type": "code",
   "execution_count": 21,
   "id": "f3a18298",
   "metadata": {},
   "outputs": [
    {
     "name": "stdout",
     "output_type": "stream",
     "text": [
      "{0: ' Organization Lines x file University',\n",
      " 1: ' Organization Lines University file d',\n",
      " 2: ' order Lines Organization know OTO',\n",
      " 3: ' Organization game Lines University team',\n",
      " 4: ' Organization people key think Lines'}\n"
     ]
    }
   ],
   "source": [
    "pprint(mgp_20news_ar.top_words())"
   ]
  },
  {
   "cell_type": "code",
   "execution_count": null,
   "id": "e7116236",
   "metadata": {},
   "outputs": [],
   "source": []
  }
 ],
 "metadata": {
  "kernelspec": {
   "display_name": "Python 3",
   "language": "python",
   "name": "python3"
  },
  "language_info": {
   "codemirror_mode": {
    "name": "ipython",
    "version": 3
   },
   "file_extension": ".py",
   "mimetype": "text/x-python",
   "name": "python",
   "nbconvert_exporter": "python",
   "pygments_lexer": "ipython3",
   "version": "3.7.4"
  }
 },
 "nbformat": 4,
 "nbformat_minor": 5
}
